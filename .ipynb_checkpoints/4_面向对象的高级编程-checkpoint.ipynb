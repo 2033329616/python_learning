{
 "cells": [
  {
   "cell_type": "markdown",
   "metadata": {},
   "source": [
    "# 面向对象的高级编程"
   ]
  },
  {
   "cell_type": "markdown",
   "metadata": {},
   "source": [
    "## 1 使用\\__slots\\__"
   ]
  },
  {
   "cell_type": "markdown",
   "metadata": {},
   "source": [
    "1. 给实例绑定任何属性和方法体现了动态语言的灵活性\n",
    "2. python中所有的函数、变量都可以视为对象，所以类的属性也可以当做函数来使用"
   ]
  },
  {
   "cell_type": "code",
   "execution_count": 4,
   "metadata": {},
   "outputs": [
    {
     "name": "stdout",
     "output_type": "stream",
     "text": [
      "1.实例绑定属性的结果: {'name': 'Michael', 'my_print': <function myprint at 0x0000021B47ED0F28>}\n",
      "2.绑定方法后的结果:\n",
      "  新增了属性age: 25\n",
      "  当前所有属性: {'name': 'Michael', 'my_print': <function myprint at 0x0000021B47ED0F28>, 'set_age': <bound method set_age of <__main__.Student object at 0x0000021B47E58AC8>>, 'age': 25}\n"
     ]
    }
   ],
   "source": [
    "# 1. 为实例绑定新的属性及方法\n",
    "class Student(object):\n",
    "    pass\n",
    "s = Student()\n",
    "s.name = 'Michael'         # 给实例绑定属性\n",
    "def myprint():\n",
    "    print('hello world')\n",
    "s.my_print = myprint       # 这里是把实例的属性赋值为函数对象了，它仍属于实例的属性，而不是方法\n",
    "print('1.实例绑定属性的结果:', s.__dict__)\n",
    "\n",
    "def set_age(self, age):\n",
    "    self.age = age\n",
    "from types import MethodType\n",
    "s.set_age = MethodType(set_age, s)   # 给实例绑定一个方法，其实还是属性，用__dict__仍能看到\n",
    "s.set_age(25)\n",
    "print('2.绑定方法后的结果:')\n",
    "print('  新增了属性age:', s.age)\n",
    "print('  当前所有属性:', s.__dict__)  # __dict__只输出属性，不包括类中定义的方法"
   ]
  },
  {
   "cell_type": "markdown",
   "metadata": {},
   "source": [
    "给特定实例绑定的属性及方法，对该类创建的其他实例是无效的\n",
    "- 解决方法：给类绑定属性及方法"
   ]
  },
  {
   "cell_type": "code",
   "execution_count": 32,
   "metadata": {},
   "outputs": [
    {
     "name": "stdout",
     "output_type": "stream",
     "text": [
      "1.类绑定方法的结果: 97 99\n",
      "hello world!\n"
     ]
    }
   ],
   "source": [
    "# 2. 给类绑定属性及方法\n",
    "class Student(object):       # 新建的类\n",
    "    pass\n",
    "def set_score(self, score):  # 需动态增加的方法\n",
    "    self.score = score\n",
    "def myprint(self):           # 注意与实例绑定属性中的函数对比，需要多加一个self\n",
    "    print('hello world!')\n",
    "Student.set_score = set_score\n",
    "Student.myprint = myprint\n",
    "s1 = Student()\n",
    "s2 = Student()\n",
    "s1.set_score(97)       # 类绑定方法后，所以实例都可以调用\n",
    "s2.set_score(99)\n",
    "print('1.类绑定方法的结果:', s1.score, s2.score)\n",
    "s1.myprint()"
   ]
  },
  {
   "cell_type": "markdown",
   "metadata": {},
   "source": [
    "小结:\n",
    "- 在实例和类绑定方法时，都可以使用`XXX.attribute_name = func_name`，但在类中添加的方法函数第一个参数必须为self(其实换个名称也行，但为了与类定义对应，使用self)"
   ]
  },
  {
   "cell_type": "markdown",
   "metadata": {},
   "source": [
    "使用\\__slots\\__限制实例的属性"
   ]
  },
  {
   "cell_type": "code",
   "execution_count": 26,
   "metadata": {},
   "outputs": [
    {
     "name": "stdout",
     "output_type": "stream",
     "text": [
      "1.类绑定属性及方法不受__slots__限制: 99\n"
     ]
    }
   ],
   "source": [
    "# 3. 使用__slots__限制属性名称\n",
    "class Student(object):\n",
    "    __slots__ = ('name', 'age')    # 用tuple定义允许绑定的属性名称\n",
    "s = Student()\n",
    "s.name = 'Michael'      # 为实例绑定新属性\n",
    "s.age = 25\n",
    "# s.score = 100         # score没有再__slots__中，所以会报错\n",
    "\n",
    "def set_score(self, score):  # 需动态增加的方法\n",
    "    self.score = score\n",
    "Student.set_score = set_score       # 给类绑定方法及属性，不受__slots__限制，但实例不行\n",
    "# Student.set_score(Student, 99)    # 给自己绑定属性\n",
    "Student.score = 99                  # 只读，实例中不可以修改\n",
    "# Student.set_score(3)\n",
    "s = Student()\n",
    "print('1.类绑定属性及方法不受__slots__限制:', s.score)\n",
    "# s = Student()\n",
    "# s.score"
   ]
  },
  {
   "cell_type": "code",
   "execution_count": 10,
   "metadata": {},
   "outputs": [],
   "source": [
    "# __slots__定义的属性对当前实例起作用，对继承的子类不起作用，除非子类中也加入__slots__\n",
    "class GraduateStudent(Student):\n",
    "    __slots__ = ('score')        # 加入该句后，才能限制类属性名称，同时可使用父类的__slots__\n",
    "    pass\n",
    "g = GraduateStudent()\n",
    "g.score = 9999\n",
    "g.name = 'd'\n",
    "# g.ss = 'f'         # 该句报错，原因父类及子类的__slots__中都没有ss属性"
   ]
  },
  {
   "cell_type": "markdown",
   "metadata": {},
   "source": [
    "小结:\n",
    "- 类中绑定属性及方法不受\\__slots\\__的限制，只有实例才受限制\n",
    "- 子类中同样使用\\__slots\\__，才能起到限制属性作用，限制范围:父类+子类的范围"
   ]
  },
  {
   "cell_type": "markdown",
   "metadata": {},
   "source": [
    "## 2 使用@proerty"
   ]
  },
  {
   "cell_type": "markdown",
   "metadata": {},
   "source": [
    "回顾装饰器的用法"
   ]
  },
  {
   "cell_type": "code",
   "execution_count": 59,
   "metadata": {},
   "outputs": [
    {
     "name": "stdout",
     "output_type": "stream",
     "text": [
      "---------------------------------------------------\n",
      "1.这是修饰器添加的部分: Current date: 2018-08-07 20:37:06\n",
      "2.这是函数本身的输出: Hello world! Hello python!\n"
     ]
    }
   ],
   "source": [
    "# 使用装饰器为函数动态的添加功能，例如函数执行前，打印日志\n",
    "import functools   \n",
    "import datetime\n",
    "\n",
    "def log(text):             # text参数表示准备输出的信息\n",
    "    def decorator(func):   # func需要修饰的函数，这里调用hello即可\n",
    "        functools.wraps(func)       # 保证修饰后的函数名称保持不变\n",
    "        def wrapper(*args, **kw):   # 可变参数保证待修饰函数正常运行，该部分是添加额外功能的地方\n",
    "            now = datetime.datetime.now().strftime('%Y-%m-%d %H:%M:%S')  # 获取当前日期\n",
    "            print('{0} Current date: {1}'.format(text, now))             # 添加的功能部分\n",
    "            return func(*args, **kw)      # 执行func函数并返回\n",
    "        return wrapper                    # 返回装饰后的函数\n",
    "    return decorator                      # 返回装饰器\n",
    "\n",
    "@log('1.这是修饰器添加的部分:')              # 在函数定义的前面加\n",
    "def hello():     # 为该函数添加装饰器，增加输出当前日期的功能\n",
    "    print('2.这是函数本身的输出: Hello world! Hello python!')\n",
    "print('---------------------------------------------------')\n",
    "hello()          # 调用装饰后的函数"
   ]
  },
  {
   "cell_type": "code",
   "execution_count": 45,
   "metadata": {},
   "outputs": [
    {
     "name": "stdout",
     "output_type": "stream",
     "text": [
      "2018-08-07 20:23:58\n"
     ]
    }
   ],
   "source": []
  },
  {
   "cell_type": "code",
   "execution_count": null,
   "metadata": {},
   "outputs": [],
   "source": []
  },
  {
   "cell_type": "code",
   "execution_count": null,
   "metadata": {},
   "outputs": [],
   "source": []
  },
  {
   "cell_type": "code",
   "execution_count": null,
   "metadata": {},
   "outputs": [],
   "source": []
  },
  {
   "cell_type": "code",
   "execution_count": null,
   "metadata": {},
   "outputs": [],
   "source": []
  },
  {
   "cell_type": "code",
   "execution_count": null,
   "metadata": {},
   "outputs": [],
   "source": []
  },
  {
   "cell_type": "code",
   "execution_count": null,
   "metadata": {},
   "outputs": [],
   "source": []
  }
 ],
 "metadata": {
  "kernelspec": {
   "display_name": "Python 3",
   "language": "python",
   "name": "python3"
  },
  "language_info": {
   "codemirror_mode": {
    "name": "ipython",
    "version": 3
   },
   "file_extension": ".py",
   "mimetype": "text/x-python",
   "name": "python",
   "nbconvert_exporter": "python",
   "pygments_lexer": "ipython3",
   "version": "3.6.4"
  }
 },
 "nbformat": 4,
 "nbformat_minor": 2
}
