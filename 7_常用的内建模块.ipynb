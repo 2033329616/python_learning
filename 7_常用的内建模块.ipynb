{
 "cells": [
  {
   "cell_type": "markdown",
   "metadata": {},
   "source": [
    "# 常用的内建模块\n",
    "\"batteries included\"，Python内置了很多有用的模块"
   ]
  },
  {
   "cell_type": "markdown",
   "metadata": {},
   "source": [
    "## 1 datetime\n",
    "处理日期和时间的标准库"
   ]
  },
  {
   "cell_type": "markdown",
   "metadata": {},
   "source": [
    "###  1. 获取当前日期和时间"
   ]
  },
  {
   "cell_type": "code",
   "execution_count": 4,
   "metadata": {},
   "outputs": [
    {
     "name": "stdout",
     "output_type": "stream",
     "text": [
      "1.当前日期和时间: 2018-08-11 19:51:13.379552 <class 'datetime.datetime'>\n"
     ]
    }
   ],
   "source": [
    "from datetime import datetime\n",
    "now = datetime.now()\n",
    "print('1.当前日期和时间:', now, type(now))"
   ]
  },
  {
   "cell_type": "markdown",
   "metadata": {},
   "source": [
    "### 2.获取指定日期和时间"
   ]
  },
  {
   "cell_type": "code",
   "execution_count": 8,
   "metadata": {},
   "outputs": [
    {
     "name": "stdout",
     "output_type": "stream",
     "text": [
      "1.指定的日期和时间: 2018-07-07 12:07:00\n"
     ]
    }
   ],
   "source": [
    "from datetime import datetime\n",
    "dt = datetime(2018, 7, 7, 12, 7)   # 用指定的时间创建一个datetime实例\n",
    "print('1.指定的日期和时间:', dt)"
   ]
  },
  {
   "cell_type": "markdown",
   "metadata": {},
   "source": [
    "###  3.datetime转换为timestamp\n",
    "自1970.01.01 00:00:00开始到当前的**秒数**称为timestamp"
   ]
  },
  {
   "cell_type": "code",
   "execution_count": 11,
   "metadata": {},
   "outputs": [
    {
     "name": "stdout",
     "output_type": "stream",
     "text": [
      "1.指定日期的timestamp: 1530936420.0\n"
     ]
    }
   ],
   "source": [
    "dt = datetime(2018, 7, 7, 12, 7)  # 用指定的时间创建一个datetime实例\n",
    "print('1.指定日期的timestamp:', dt.timestamp())   # 把datetime转换为timestamp,+，小数点后的是毫秒"
   ]
  },
  {
   "cell_type": "markdown",
   "metadata": {},
   "source": [
    "### 4.timestamp转换为datetime"
   ]
  },
  {
   "cell_type": "code",
   "execution_count": 21,
   "metadata": {},
   "outputs": [
    {
     "name": "stdout",
     "output_type": "stream",
     "text": [
      "1994-08-25 09:22:57\n"
     ]
    }
   ],
   "source": [
    "t = 777777777\n",
    "print(datetime.fromtimestamp(t))  # 将积累的秒数转换为日期"
   ]
  },
  {
   "cell_type": "markdown",
   "metadata": {},
   "source": [
    "一般的timestamp是不包含时区信息的，北京时间为：\n",
    "2018-08-11 19:51:13 UTC+8:00\n"
   ]
  },
  {
   "cell_type": "code",
   "execution_count": 41,
   "metadata": {},
   "outputs": [
    {
     "name": "stdout",
     "output_type": "stream",
     "text": [
      "1.本地时间: 2018-08-11 20:12:21.694892\n",
      "2.标准时间(UTC时间): 2018-08-11 12:12:21.694892\n"
     ]
    }
   ],
   "source": [
    "# 将本地时间转换到UTC标准时间\n",
    "now = 1533989541.694892                    # 当前的时间timestamp\n",
    "local_time = datetime.fromtimestamp(now)\n",
    "print('1.本地时间:', local_time)\n",
    "standard_time = datetime.utcfromtimestamp(now)   #北京是东八区，差8个小时\n",
    "print('2.标准时间(UTC时间):', standard_time)"
   ]
  },
  {
   "cell_type": "markdown",
   "metadata": {},
   "source": [
    "### 5.str与datetime互相转换"
   ]
  },
  {
   "cell_type": "code",
   "execution_count": 3,
   "metadata": {},
   "outputs": [
    {
     "name": "stdout",
     "output_type": "stream",
     "text": [
      "1.字符串转为日期: 2018-07-01 18:20:20 <class 'datetime.datetime'>\n"
     ]
    }
   ],
   "source": [
    "# 1. str转换到datetime，没有时区信息\n",
    "from datetime import datetime\n",
    "time_str = '2018-7-1 18:20:20'      # 日期的字符串\n",
    "time_format = '%Y-%m-%d %H:%M:%S'   # 时间显示格式\n",
    "cday = datetime.strptime(time_str, time_format)\n",
    "print('1.字符串转为日期:', cday, type(cday))"
   ]
  },
  {
   "cell_type": "code",
   "execution_count": 5,
   "metadata": {},
   "outputs": [
    {
     "name": "stdout",
     "output_type": "stream",
     "text": [
      "1.日期转字符串: Sat, Aug 11 20:31 <class 'str'>\n"
     ]
    }
   ],
   "source": [
    "# 2. datetime转换到str\n",
    "now = datetime.now()\n",
    "time_format = '%a, %b %d %H:%M'\n",
    "time_str = now.strftime(time_format)\n",
    "print('1.日期转字符串:', time_str, type(time_str))"
   ]
  },
  {
   "cell_type": "markdown",
   "metadata": {},
   "source": [
    "### 6.datetime加减"
   ]
  },
  {
   "cell_type": "code",
   "execution_count": 16,
   "metadata": {},
   "outputs": [
    {
     "name": "stdout",
     "output_type": "stream",
     "text": [
      "1.当前日期和时间: 2018-08-11 20:39:11.267879\n",
      "2.快进2个小时: 2018-08-11 22:49:11.267879\n",
      "3.快退后的时间: 2018-08-10 19:37:51.267879\n"
     ]
    }
   ],
   "source": [
    "# 使用timedelta函数移动日期\n",
    "from datetime import datetime, timedelta\n",
    "now = datetime.now()\n",
    "print('1.当前日期和时间:', now)\n",
    "new_time = now + timedelta(hours=2, minutes=10)    # 直接使用+，可以快速推进时间\n",
    "print('2.快进2个小时:', new_time)\n",
    "new_time = now - timedelta(days=1, hours=1, minutes=1, seconds=20) \n",
    "print('3.快退后的时间:', new_time)"
   ]
  },
  {
   "cell_type": "markdown",
   "metadata": {},
   "source": [
    "### 7.时区转换"
   ]
  },
  {
   "cell_type": "markdown",
   "metadata": {},
   "source": [
    "本地时间转换为UTC标准时间\n",
    "\n",
    "北京时间：UTC+8:00，UTC时间:UTC+0:00"
   ]
  },
  {
   "cell_type": "code",
   "execution_count": 70,
   "metadata": {},
   "outputs": [
    {
     "name": "stdout",
     "output_type": "stream",
     "text": [
      "1.新建时区: UTC+08:00\n",
      "2.当前日期和时间: 2018-08-11 21:26:34.926096\n",
      "3.添加时区信息后的时间: 2018-08-11 21:26:34 UTC+08:00\n"
     ]
    }
   ],
   "source": [
    "# 通过timezone为时间添加时区信息，初始化时区属性tzinfo，默认为None\n",
    "from datetime import datetime, timezone, timedelta\n",
    "tz_utc_8 = timezone(timedelta(hours=8))    # 创建时区UTC+8:00，如果是UTC-8:00直接将hours设为负数即可\n",
    "print('1.新建时区:', tz_utc_8)\n",
    "now = datetime.now()\n",
    "print('2.当前日期和时间:', now)\n",
    "new_time = now.replace(tzinfo=tz_utc_8)    # 添加时区信息\n",
    "print('3.添加时区信息后的时间:', new_time.strftime('%Y-%m-%d %H:%M:%S %Z'))"
   ]
  },
  {
   "cell_type": "markdown",
   "metadata": {},
   "source": [
    "时区转换"
   ]
  },
  {
   "cell_type": "code",
   "execution_count": 48,
   "metadata": {},
   "outputs": [
    {
     "name": "stdout",
     "output_type": "stream",
     "text": [
      "1.当前UTC的日期和时间: 2018-08-11 13:02:01.476544+00:00\n",
      "2.北京的日期和时间: 2018-08-11 21:02:01.476544+08:00\n",
      "3.东京的日期和时间: 2018-08-11 22:02:01.476544+09:00\n",
      "  从北京得到东京的日期和时间: 2018-08-11 22:02:01.476544+09:00\n"
     ]
    }
   ],
   "source": [
    "# 先用utcnow()获取当前UTC的时间，再做转换\n",
    "utc_dt = datetime.utcnow().replace(tzinfo=timezone.utc)\n",
    "print('1.当前UTC的日期和时间:', utc_dt)\n",
    "# 将时区转换为北京\n",
    "bj_dt = utc_dt.astimezone(timezone(timedelta(hours=8)))       # 直接从UTC时区转换\n",
    "print('2.北京的日期和时间:', bj_dt)\n",
    "# 将时区转还为东京\n",
    "tokyo_dt = utc_dt.astimezone(timezone(timedelta(hours=9)))    # 直接从UTC时区转换\n",
    "print('3.东京的日期和时间:', tokyo_dt)\n",
    "tokyo_dt2 = bj_dt.astimezone(timezone(timedelta(hours=9)))    # 从其他时区得到当前时区时间\n",
    "print('  从北京得到东京的日期和时间:', tokyo_dt2)"
   ]
  },
  {
   "cell_type": "markdown",
   "metadata": {},
   "source": [
    "小结:\n",
    "- timestamp的值与时区无关\n",
    "- datetime需要添加时区信息才能得到一个特点的时间，否则当做本地时间"
   ]
  },
  {
   "cell_type": "markdown",
   "metadata": {},
   "source": [
    "字符串转时间练习"
   ]
  },
  {
   "cell_type": "code",
   "execution_count": 72,
   "metadata": {},
   "outputs": [
    {
     "name": "stdout",
     "output_type": "stream",
     "text": [
      "1433121030.0\n",
      "1433121030.0\n",
      "ok\n"
     ]
    }
   ],
   "source": [
    "# 将输入的日期和时区字符串信息转换为timestamp\n",
    "from datetime import datetime, timezone, timedelta\n",
    "def str2timestamp(dt_str, tz_str):\n",
    "    dt = datetime.strptime(dt_str, '%Y-%m-%d %H:%M:%S')    # 将str转换为datetime\n",
    "    hours_num = int(tz_str[4:tz_str.index(':')])           # 提取出时区中的数\n",
    "    flag = 1 if tz_str[3] == '+' else -1                   # 分辨时区的加或减\n",
    "    dt_zone = timezone(timedelta(hours=flag*hours_num))    # 设置时区\n",
    "    new_dt = dt.replace(tzinfo=dt_zone)                    # 添加时区的新时间\n",
    "    print(new_dt.timestamp())\n",
    "    return new_dt.timestamp()\n",
    "\n",
    "t1 = str2timestamp('2015-6-1 08:10:30', 'UTC+7:00')\n",
    "assert t1 == 1433121030.0, t1\n",
    "t2 = str2timestamp('2015-5-31 16:10:30', 'UTC-09:00')\n",
    "assert t2 == 1433121030.0, t2\n",
    "print('ok')"
   ]
  },
  {
   "cell_type": "markdown",
   "metadata": {},
   "source": [
    "## 2.colllections"
   ]
  },
  {
   "cell_type": "markdown",
   "metadata": {},
   "source": [
    "Python的集合模块，提供许多有用的集合类"
   ]
  },
  {
   "cell_type": "markdown",
   "metadata": {},
   "source": [
    "### 1.namedtuple\n",
    "namedtuple('名称', [属性list])\n",
    "\n",
    "为元组提供名称\n",
    "例子：p=(1,2)，无法知道1,2的意义，如果定义类来表示元素的意义会增加复杂性，所以使用namedtuple"
   ]
  },
  {
   "cell_type": "code",
   "execution_count": 16,
   "metadata": {},
   "outputs": [
    {
     "name": "stdout",
     "output_type": "stream",
     "text": [
      "1.点的坐标为: 1 2\n",
      "2.namedtuple的类型: <class '__main__.Point_name'>\n",
      "3.namedtuple既是Point也是tuple: True True\n"
     ]
    }
   ],
   "source": [
    "# 为元组提供意义\n",
    "from collections import namedtuple\n",
    "Point = namedtuple('Point_name', ['x', 'y'])  # Point_name只是表示该元组的类型名称，可以随意取\n",
    "p = Point(1, 2)\n",
    "print('1.点的坐标为:', p.x, p.y)\n",
    "print('2.namedtuple的类型:', type(p))\n",
    "print('3.namedtuple既是Point也是tuple:', isinstance(p, Point), isinstance(p, tuple))"
   ]
  },
  {
   "cell_type": "code",
   "execution_count": 27,
   "metadata": {},
   "outputs": [
    {
     "name": "stdout",
     "output_type": "stream",
     "text": [
      "1.定义的圆参数: Circle(x=2, y=3, r=4) <class '__main__.Circle'>\n"
     ]
    }
   ],
   "source": [
    "# 定义一个圆\n",
    "Circle = namedtuple('Circle', ['x', 'y', 'r'])   # 定义有意义的元组\n",
    "mycircle = Circle(2, 3, r=4)\n",
    "print('1.定义的圆参数:', mycircle, type(mycircle))"
   ]
  },
  {
   "cell_type": "code",
   "execution_count": null,
   "metadata": {},
   "outputs": [],
   "source": []
  },
  {
   "cell_type": "code",
   "execution_count": null,
   "metadata": {},
   "outputs": [],
   "source": []
  },
  {
   "cell_type": "code",
   "execution_count": null,
   "metadata": {},
   "outputs": [],
   "source": []
  },
  {
   "cell_type": "code",
   "execution_count": null,
   "metadata": {},
   "outputs": [],
   "source": []
  },
  {
   "cell_type": "code",
   "execution_count": null,
   "metadata": {},
   "outputs": [],
   "source": []
  },
  {
   "cell_type": "code",
   "execution_count": null,
   "metadata": {},
   "outputs": [],
   "source": []
  },
  {
   "cell_type": "code",
   "execution_count": null,
   "metadata": {},
   "outputs": [],
   "source": []
  },
  {
   "cell_type": "code",
   "execution_count": null,
   "metadata": {},
   "outputs": [],
   "source": []
  },
  {
   "cell_type": "code",
   "execution_count": null,
   "metadata": {},
   "outputs": [],
   "source": []
  },
  {
   "cell_type": "code",
   "execution_count": null,
   "metadata": {},
   "outputs": [],
   "source": []
  },
  {
   "cell_type": "code",
   "execution_count": null,
   "metadata": {},
   "outputs": [],
   "source": []
  },
  {
   "cell_type": "code",
   "execution_count": null,
   "metadata": {},
   "outputs": [],
   "source": []
  }
 ],
 "metadata": {
  "kernelspec": {
   "display_name": "Python 3",
   "language": "python",
   "name": "python3"
  },
  "language_info": {
   "codemirror_mode": {
    "name": "ipython",
    "version": 3
   },
   "file_extension": ".py",
   "mimetype": "text/x-python",
   "name": "python",
   "nbconvert_exporter": "python",
   "pygments_lexer": "ipython3",
   "version": "3.6.4"
  }
 },
 "nbformat": 4,
 "nbformat_minor": 2
}
